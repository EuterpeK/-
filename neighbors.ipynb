{
 "cells": [
  {
   "cell_type": "code",
   "execution_count": 1,
   "metadata": {},
   "outputs": [],
   "source": [
    "import numpy as np\n",
    "from sklearn.neighbors import KNeighborsClassifier,KDTree,NearestNeighbors,BallTree\n",
    "from sklearn.model_selection import train_test_split\n",
    "from sklearn.datasets import make_classification\n",
    "from sklearn import model_selection"
   ]
  },
  {
   "cell_type": "code",
   "execution_count": 2,
   "metadata": {},
   "outputs": [
    {
     "name": "stdout",
     "output_type": "stream",
     "text": [
      "{(7, 2, 6): {'left': {(5, 4, 3): {'left': (2, 3, 4), 'right': (4, 7, 8)}}, 'right': {(9, 6, 7): {'left': (8, 1, 5)}}}}\n"
     ]
    }
   ],
   "source": [
    "# self_defination\n",
    "\n",
    "x = [[2,3,4],[5,4,3],[9,6,7],[4,7,8],[8,1,5],[7,2,6]]\n",
    "def kd_tree(x,k,depth):\n",
    "    #input:x\n",
    "    #output:kdtree\n",
    "    m=len(x)\n",
    "    if m==1:\n",
    "        return tuple(x[0])\n",
    "    index_feature = depth%k\n",
    "    sort_x = sorted(x,key=lambda xx:xx[index_feature])\n",
    "    median=(m)//2\n",
    "    left=[sort_x[i] for i in range(m) if i<median ]\n",
    "    right=[sort_x[i] for i in range(m) if i>median]\n",
    "    \n",
    "    '''\n",
    "    print('*'*20)\n",
    "    print(index_feature)\n",
    "    print(sort_x)\n",
    "    print(median)\n",
    "    print(x[median])\n",
    "    print(left)\n",
    "    print(right)\n",
    "    '''\n",
    "    \n",
    "    kdtree={(tuple(sort_x[median])):{}}\n",
    "    if len(left)>0:\n",
    "        kdtree[(tuple(sort_x[median]))]['left']=kd_tree(left,k,depth+1)\n",
    "    if len(right)>0:\n",
    "        kdtree[tuple(sort_x[median])]['right']=kd_tree(right,k,depth+1)\n",
    "    return kdtree\n",
    "kdtree=kd_tree(x,3,0)\n",
    "print(kdtree)"
   ]
  },
  {
   "cell_type": "code",
   "execution_count": 7,
   "metadata": {},
   "outputs": [],
   "source": [
    "# sklearn\n",
    "# create_datasets\n",
    "x,y = make_classification(n_samples=1000,n_features=10,n_classes=2)\n",
    "x_train,x_test,y_train,y_test=train_test_split(x,y,test_size=0.3)"
   ]
  },
  {
   "cell_type": "code",
   "execution_count": 65,
   "metadata": {},
   "outputs": [
    {
     "data": {
      "text/plain": [
       "GridSearchCV(cv=None, error_score=nan,\n",
       "             estimator=KNeighborsClassifier(algorithm='auto', leaf_size=30,\n",
       "                                            metric='minkowski',\n",
       "                                            metric_params=None, n_jobs=None,\n",
       "                                            n_neighbors=5, p=2,\n",
       "                                            weights='uniform'),\n",
       "             iid='deprecated', n_jobs=None,\n",
       "             param_grid={'algorithm': ['auto', 'kd_tree', 'ball_tree', 'brute'],\n",
       "                         'n_neighbors': [10, 20, 30, 40, 50], 'p': [1, 2]},\n",
       "             pre_dispatch='2*n_jobs', refit=True, return_train_score=False,\n",
       "             scoring=None, verbose=0)"
      ]
     },
     "execution_count": 65,
     "metadata": {},
     "output_type": "execute_result"
    }
   ],
   "source": [
    "# KNeighborsClassifier\n",
    "param_gride={\n",
    "    'n_neighbors':[10*(i+1) for i in range(5)],\n",
    "    'algorithm':['auto','kd_tree','ball_tree','brute'],\n",
    "    'p':[1,2]\n",
    "}\n",
    "knn=KNeighborsClassifier()\n",
    "knns=model_selection.GridSearchCV(knn,param_grid=param_gride)\n",
    "knns.fit(x_train,y_train)\n",
    "#print(knns.score(x_test,y_test))\n",
    "#print(knns.predict(x_test))\n",
    "#print(knns.best_params_)\n",
    "#print(knns.cv_results_)"
   ]
  },
  {
   "cell_type": "code",
   "execution_count": 66,
   "metadata": {},
   "outputs": [
    {
     "data": {
      "text/plain": [
       "NearestNeighbors(algorithm='auto', leaf_size=30, metric='minkowski',\n",
       "                 metric_params=None, n_jobs=None, n_neighbors=20, p=2,\n",
       "                 radius=2.0)"
      ]
     },
     "execution_count": 66,
     "metadata": {},
     "output_type": "execute_result"
    }
   ],
   "source": [
    "# NearestNeighbors\n",
    "nn=NearestNeighbors(n_neighbors=20,radius=2.0,algorithm='auto',leaf_size=30,p=2)\n",
    "nn.fit(x_train,y_train)\n",
    "#print(nn.kneighbors())\n",
    "#print(nn.kneighbors_graph())\n",
    "#print(nn.radius_neighbors_graph())"
   ]
  },
  {
   "cell_type": "code",
   "execution_count": 67,
   "metadata": {},
   "outputs": [
    {
     "name": "stdout",
     "output_type": "stream",
     "text": [
      "[[0 1]]\n",
      "[[[2 3 4]\n",
      "  [5 4 3]]]\n"
     ]
    }
   ],
   "source": [
    "# kd_tree\n",
    "xx=np.array([[2,3,4],[5,4,3],[9,6,7],[4,7,8],[8,1,5],[7,2,6]])\n",
    "KDTREE=KDTree(xx,leaf_size=4,p=2)\n",
    "dis,ind=KDTREE.query(xx[:1],k=2)\n",
    "print(ind)\n",
    "print(xx[ind])"
   ]
  },
  {
   "cell_type": "code",
   "execution_count": 68,
   "metadata": {},
   "outputs": [
    {
     "name": "stdout",
     "output_type": "stream",
     "text": [
      "[ 0.69757325  0.20261052  0.24705368 -0.70350109 -0.13987349  0.56439366\n",
      "  0.33629723  0.01455234  0.74678031 -1.27991398]\n",
      "[ 0.69861587  0.197616   -0.15727986 -1.81441601  0.17759267  0.77523497\n",
      " -0.21586387  0.01803868  1.11439505 -1.27386902]\n",
      "[ 1.8096511  -1.51786648  1.02876812 -0.32839844  0.53453322 -0.50059923\n",
      " -0.81538688  1.37423813 -0.01003865 -0.25053073]\n",
      "[ 1.95423839 -1.74769576  0.11865494 -0.14938674  0.12844358 -0.8149427\n",
      " -0.69672081  1.55503445  0.07882043 -0.1074701 ]\n"
     ]
    }
   ],
   "source": [
    "# ball_tree\n",
    "ball_tree=BallTree(x_train,leaf_size=600,p=1)\n",
    "dis,ind=ball_tree.query(x_test[:2],k=2)\n",
    "for len in ind:\n",
    "    for col in len:\n",
    "        print(x_train[col])"
   ]
  }
 ],
 "metadata": {
  "kernelspec": {
   "display_name": "Python 3",
   "language": "python",
   "name": "python3"
  },
  "language_info": {
   "codemirror_mode": {
    "name": "ipython",
    "version": 3
   },
   "file_extension": ".py",
   "mimetype": "text/x-python",
   "name": "python",
   "nbconvert_exporter": "python",
   "pygments_lexer": "ipython3",
   "version": "3.6.2"
  }
 },
 "nbformat": 4,
 "nbformat_minor": 2
}
