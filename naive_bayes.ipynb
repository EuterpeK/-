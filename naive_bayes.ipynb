{
 "cells": [
  {
   "cell_type": "code",
   "execution_count": 55,
   "metadata": {},
   "outputs": [],
   "source": [
    "from sklearn import datasets\n",
    "from sklearn import naive_bayes\n",
    "from sklearn import model_selection\n",
    "from sklearn import metrics\n",
    "import numpy as np"
   ]
  },
  {
   "cell_type": "code",
   "execution_count": 56,
   "metadata": {},
   "outputs": [],
   "source": [
    "x=datasets.load_iris()\n",
    "x_train,x_test,y_train,y_test=model_selection.train_test_split(x.data,x.target,test_size=0.3,shuffle=True)"
   ]
  },
  {
   "cell_type": "code",
   "execution_count": 57,
   "metadata": {},
   "outputs": [
    {
     "name": "stdout",
     "output_type": "stream",
     "text": [
      "1.0\n",
      "[[8.25782573e-086 9.99756288e-001 2.43712468e-004]\n",
      " [3.26224141e-194 2.99743586e-005 9.99970026e-001]\n",
      " [1.46251527e-104 9.89201832e-001 1.07981682e-002]\n",
      " [1.00000000e+000 1.24720023e-015 1.95743258e-022]\n",
      " [3.28261530e-106 9.92322007e-001 7.67799333e-003]]\n",
      "[]\n",
      "[]\n",
      "1.0\n"
     ]
    }
   ],
   "source": [
    "# GaussianNB\n",
    "gaussion_bn=naive_bayes.GaussianNB()\n",
    "gaussion_bn.fit(x_train,y_train)\n",
    "print(gaussion_bn.score(x_test,y_test))\n",
    "print(gaussion_bn.predict_proba(x_test)[:5])\n",
    "predict_gaussion=gaussion_bn.predict(x_test)\n",
    "#print(predict[:5])\n",
    "#print(y_test[:5])\n",
    "index_guasssion=np.where(predict_gaussion!=y_test)\n",
    "print(predict[index_guasssion])\n",
    "print(y_test[index_guasssion])\n",
    "print(metrics.accuracy_score(y_test,predict_gaussion))"
   ]
  },
  {
   "cell_type": "code",
   "execution_count": 58,
   "metadata": {},
   "outputs": [
    {
     "name": "stdout",
     "output_type": "stream",
     "text": [
      "0.9555555555555556\n",
      "[[-2.98358521 -0.70126055 -0.79091611]\n",
      " [-4.36236497 -0.72438555 -0.68790188]\n",
      " [-3.04153522 -0.68460687 -0.80307355]\n",
      " [-0.39565336 -1.57026781 -2.13056225]\n",
      " [-3.55428096 -0.71339469 -0.73101517]]\n",
      "[2 2]\n",
      "[1 1]\n"
     ]
    }
   ],
   "source": [
    "# MultinomialNB\n",
    "multinomial_nb = naive_bayes.MultinomialNB(alpha=1.0)\n",
    "multinomial_nb.fit(x_train,y_train)\n",
    "print(multinomial_nb.score(x_test,y_test))\n",
    "print(multinomial_nb.predict_log_proba(x_test)[:5])\n",
    "predict_multinomial=multinomial_nb.predict(x_test)\n",
    "index_multinomial=np.where(y_test!=predict_multinomial)\n",
    "print(y_test[index_multinomial])\n",
    "print(predict_multinomial[index_multinomial])"
   ]
  },
  {
   "cell_type": "code",
   "execution_count": 59,
   "metadata": {},
   "outputs": [
    {
     "name": "stdout",
     "output_type": "stream",
     "text": [
      "0.6666666666666666\n",
      "[[-1.28664434 -1.13271517 -0.9121827 ]\n",
      " [-1.53485086 -1.16632591 -0.74865393]\n",
      " [-1.25174665 -1.1498654  -0.92302386]\n",
      " [-0.60077997 -1.36187816 -1.63251681]\n",
      " [-1.434808   -1.12465547 -0.82765144]]\n",
      "[2 2 2 2 2 2 2 0 2 2 2 2 2 2 2]\n",
      "[1 1 1 1 1 1 1 1 1 1 1 1 1 1 1]\n"
     ]
    }
   ],
   "source": [
    "# ComplementNB\n",
    "complement_nb = naive_bayes.ComplementNB(alpha=1.0)\n",
    "complement_nb.fit(x_train,y_train)\n",
    "print(complement_nb.score(x_test,y_test))\n",
    "print(complement_nb.predict_log_proba(x_test)[:5])\n",
    "predict_complement=complement_nb.predict(x_test)\n",
    "index_complement=np.where(predict_complement!=y_test)\n",
    "print(predict_complement[index_complement])\n",
    "print(y_test[index_complement])"
   ]
  },
  {
   "cell_type": "code",
   "execution_count": 60,
   "metadata": {},
   "outputs": [
    {
     "name": "stdout",
     "output_type": "stream",
     "text": [
      "0.6666666666666666\n",
      "[[-4.80739798 -0.69939959 -0.70330386]\n",
      " [-4.80739798 -0.69939959 -0.70330386]\n",
      " [-4.80739798 -0.69939959 -0.70330386]\n",
      " [-0.21997724 -1.83310997 -3.2821491 ]\n",
      " [-4.80739798 -0.69939959 -0.70330386]]\n",
      "classes: [0 1 2]\n",
      "class_prior: [-1.07044141 -1.09861229 -1.12759983]\n",
      "class_count: [36. 35. 34.]\n",
      "feature_count:\n",
      " [[36. 17.  0.  0.]\n",
      " [35.  0. 32.  0.]\n",
      " [34.  2. 34.  0.]]\n",
      "features_num: 4\n",
      "feature_log_prob:\n",
      " [[-0.02666825 -0.7472144  -3.63758616 -3.63758616]\n",
      " [-0.02739897 -3.61091791 -0.11441035 -3.61091791]\n",
      " [-0.02817088 -2.48490665 -0.02817088 -3.58351894]]\n"
     ]
    }
   ],
   "source": [
    "# BernoulliNB\n",
    "# 因为要求特征都是二值的，所以对各个特征二值化，随便选一个均值，看看效果如何\n",
    "mean_train=np.mean(x_train)\n",
    "mean_test=np.mean(x_test)\n",
    "x_train[np.where(x_train<=mean_train)]=0\n",
    "x_train[np.where(x_train>mean_train)]=1\n",
    "x_test[np.where(x_test<=mean_test)]=0\n",
    "x_test[np.where(x_test>mean_test)]=1\n",
    "bernoulli_nb = naive_bayes.BernoulliNB(alpha=1.0)\n",
    "bernoulli_nb.fit(x_train,y_train)\n",
    "predict_bernoulli=bernoulli_nb.predict(x_test)\n",
    "print(bernoulli_nb.score(x_test,y_test))\n",
    "print(bernoulli_nb.predict_log_proba(x_test)[:5])\n",
    "print('classes:',bernoulli_nb.classes_)\n",
    "print('class_prior:',bernoulli_nb.class_log_prior_)\n",
    "print('class_count:',bernoulli_nb.class_count_)\n",
    "print('feature_count:\\n',bernoulli_nb.feature_count_)\n",
    "print('features_num:',bernoulli_nb.n_features_)\n",
    "print('feature_log_prob:\\n',bernoulli_nb.feature_log_prob_)"
   ]
  }
 ],
 "metadata": {
  "kernelspec": {
   "display_name": "Python 3",
   "language": "python",
   "name": "python3"
  },
  "language_info": {
   "codemirror_mode": {
    "name": "ipython",
    "version": 3
   },
   "file_extension": ".py",
   "mimetype": "text/x-python",
   "name": "python",
   "nbconvert_exporter": "python",
   "pygments_lexer": "ipython3",
   "version": "3.6.2"
  }
 },
 "nbformat": 4,
 "nbformat_minor": 2
}
