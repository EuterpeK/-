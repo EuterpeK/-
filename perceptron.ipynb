{
 "cells": [
  {
   "cell_type": "code",
   "execution_count": 1,
   "metadata": {},
   "outputs": [],
   "source": [
    "from sklearn.datasets import make_classification\n",
    "from sklearn import preprocessing,model_selection\n",
    "from sklearn.linear_model import Perceptron\n",
    "from sklearn.model_selection import train_test_split\n",
    "import numpy as np"
   ]
  },
  {
   "cell_type": "code",
   "execution_count": 2,
   "metadata": {},
   "outputs": [],
   "source": [
    "x,y=make_classification(n_samples=200,n_features=10,n_clusters_per_class=1,n_redundant=0,n_informative=1)\n",
    "def changes(x):\n",
    "    if x==0:\n",
    "        return -1\n",
    "    else:\n",
    "        return 1\n",
    "y=np.array(list(map(changes,y)))\n",
    "x_train,x_test,y_train,y_test = train_test_split(x,y,test_size=0.3,shuffle=True,random_state=2)"
   ]
  },
  {
   "cell_type": "code",
   "execution_count": 4,
   "metadata": {},
   "outputs": [],
   "source": [
    "# 感知机的原始算法\n",
    "def perceptron_original(x,y,eta):\n",
    "    # input : x,y,eta\n",
    "    # output : omega,b,f(x)=omega*x+b\n",
    "    m,n = np.shape(x)\n",
    "    omega=np.zeros(n)\n",
    "    b=0.0\n",
    "    tag = True\n",
    "    while tag:\n",
    "        for i in range(m):\n",
    "            if y[i]*(omega.T*x[i]).sum()+b <= 0:\n",
    "                omega += eta*y[i]*x[i]\n",
    "                b += eta*y[i]\n",
    "                break\n",
    "        tag=False\n",
    "        \n",
    "    return omega,b\n",
    "\n",
    "def sign(x):\n",
    "    if x>=0.0:\n",
    "        return 1\n",
    "    else:\n",
    "        return -1\n",
    "\n",
    "def perceptron_test(x,y,omega,b):\n",
    "    m,n=np.shape(x)\n",
    "    y_test= np.dot(x,omega) + b\n",
    "    error_num=np.array([1 for i in range(m) if sign(y_test[i])==y[i]]).sum()\n",
    "    print('error_rate: ',1.0-error_num/m)    "
   ]
  },
  {
   "cell_type": "code",
   "execution_count": 5,
   "metadata": {},
   "outputs": [
    {
     "name": "stdout",
     "output_type": "stream",
     "text": [
      "[-0.11587695 -0.23555703  0.09030393 -0.08758801 -0.21071945 -0.18070192\n",
      "  0.06767885  0.30269262 -0.04529923 -0.1559973 ]\n",
      "-0.2\n",
      "error_rate:  0.3666666666666667\n"
     ]
    }
   ],
   "source": [
    "omega,b = perceptron_original(x_train,y_train,0.2)\n",
    "print(omega)\n",
    "print(b)\n",
    "perceptron_test(x_test,y_test,omega,b)"
   ]
  },
  {
   "cell_type": "code",
   "execution_count": 23,
   "metadata": {},
   "outputs": [],
   "source": [
    "# 感知机的对偶算法\n",
    "def dual(x,y,x1,y1,eta):\n",
    "    # input:x,y,eta\n",
    "    # output: alpha,b,f(x)\n",
    "    m,n=np.shape(x)\n",
    "    alpha=np.zeros(m)\n",
    "    b=0.0\n",
    "    Gram = np.dot(x,x.T)\n",
    "    tag = True\n",
    "    while tag:\n",
    "        for i in range(m):\n",
    "            if y[i]*(alpha*y*Gram[:,i]+b).sum()<=0:\n",
    "                alpha[i]+=eta\n",
    "                b+=y[i]*eta\n",
    "        tag=False\n",
    "    \n",
    "    Gram_t=np.dot(x,x1.T)\n",
    "    # sign_v = np.vectorize(sign)\n",
    "    y_test=np.array([(alpha*y*Gram_t[:,i]).sum() for i in range(np.shape(x1)[0])])\n",
    "    right_num = np.array([1 for i in range(np.shape(x1)[0]) if sign(y_test[i])==y1[i]]).sum()\n",
    "    print(alpha)\n",
    "    print(b)\n",
    "    print(1-right_num/np.shape(x1)[0])"
   ]
  },
  {
   "cell_type": "code",
   "execution_count": 24,
   "metadata": {},
   "outputs": [
    {
     "name": "stdout",
     "output_type": "stream",
     "text": [
      "[0.2 0.  0.  0.  0.2 0.  0.  0.  0.2 0.  0.  0.  0.2 0.  0.  0.  0.  0.\n",
      " 0.  0.2 0.  0.2 0.  0.  0.2 0.  0.  0.2 0.  0.2 0.2 0.  0.  0.  0.  0.\n",
      " 0.  0.  0.2 0.  0.2 0.2 0.  0.  0.  0.  0.  0.2 0.  0.2 0.  0.2 0.  0.\n",
      " 0.  0.  0.  0.  0.  0.  0.2 0.2 0.  0.2 0.  0.2 0.  0.  0.2 0.  0.2 0.\n",
      " 0.2 0.2 0.  0.  0.  0.  0.  0.  0.  0.  0.  0.  0.  0.  0.2 0.2 0.  0.\n",
      " 0.  0.2 0.2 0.  0.  0.  0.  0.2 0.2 0.  0.  0.  0.  0.  0.  0.  0.  0.\n",
      " 0.  0.  0.  0.  0.  0.  0.  0.2 0.2 0.  0.  0.  0.2 0.  0.2 0.  0.  0.2\n",
      " 0.2 0.  0.  0.  0.  0.  0.  0.  0.2 0.2 0.  0.  0.  0. ]\n",
      "0.0\n",
      "0.1333333333333333\n"
     ]
    }
   ],
   "source": [
    "dual(x_train,y_train,x_test,y_test,0.2)"
   ]
  },
  {
   "cell_type": "code",
   "execution_count": 42,
   "metadata": {},
   "outputs": [
    {
     "name": "stdout",
     "output_type": "stream",
     "text": [
      "[[ 1.89502521 -0.95597044  1.91998953  0.68107992  1.32319038 -2.03689198\n",
      "  -0.65694462  9.07081723 -2.40390577  0.5651715 ]] [-1.8]\n",
      "params:\n",
      "\n",
      "{'alpha': 0.001, 'class_weight': None, 'early_stopping': False, 'eta0': 0.9, 'fit_intercept': True, 'max_iter': 2000, 'n_iter_no_change': 5, 'n_jobs': None, 'penalty': 'l2', 'random_state': 0, 'shuffle': True, 'tol': 0.001, 'validation_fraction': 0.1, 'verbose': 0, 'warm_start': False}\n",
      "\n",
      "-----\n",
      "[-1 -1 -1  1  1  1 -1 -1  1 -1 -1  1  1 -1  1 -1 -1  1  1 -1 -1  1  1  1\n",
      "  1  1 -1  1 -1 -1  1  1  1  1 -1 -1 -1 -1  1 -1 -1  1  1 -1  1 -1 -1 -1\n",
      " -1  1  1 -1 -1 -1 -1 -1 -1  1  1  1] 0.8833333333333333\n"
     ]
    }
   ],
   "source": [
    "# 使用sklearn 训练感知机\n",
    "ppt = Perceptron(penalty='l2',alpha=0.001,eta0=0.9,max_iter=2000,shuffle=True)\n",
    "xx=[[1,0],[0,1],[0,0],[1,1]]\n",
    "yy=[1,1,0,0]\n",
    "ppt.fit(x_train,y_train)\n",
    "print(ppt.coef_,ppt.intercept_)\n",
    "print(\"params:\\n\")\n",
    "print(Perceptron.get_params(ppt))\n",
    "print(\"\\n-----\")\n",
    "y_pred=ppt.predict(x_test)\n",
    "score=ppt.score(x_test,y_test)\n",
    "print(y_pred,score)"
   ]
  },
  {
   "cell_type": "code",
   "execution_count": 43,
   "metadata": {},
   "outputs": [
    {
     "name": "stdout",
     "output_type": "stream",
     "text": [
      "{'fit_time': array([0.00199342, 0.00199437, 0.00102186, 0.00099683, 0.00099921,\n",
      "       0.00099754, 0.0019908 , 0.00099659, 0.00099778, 0.00099683,\n",
      "       0.00099683, 0.0009973 , 0.00099754, 0.        , 0.00099707,\n",
      "       0.00099754, 0.00099707, 0.0010097 , 0.        , 0.0009923 ]), 'score_time': array([0.00102091, 0.        , 0.        , 0.        , 0.        ,\n",
      "       0.00101066, 0.00098825, 0.        , 0.        , 0.        ,\n",
      "       0.        , 0.        , 0.        , 0.0009973 , 0.        ,\n",
      "       0.        , 0.        , 0.        , 0.0010078 , 0.        ]), 'test_score': array([0.8, 1. , 1. , 0.8, 0.9, 0.7, 0.8, 0.9, 0.7, 0.7, 0.8, 0.9, 0.9,\n",
      "       0.7, 0.9, 0.9, 0.7, 0.8, 0.8, 0.8])}\n"
     ]
    }
   ],
   "source": [
    "# k折交叉验证\n",
    "scores = model_selection.cross_validate(ppt,x,y,cv=20)\n",
    "print(scores)"
   ]
  },
  {
   "cell_type": "code",
   "execution_count": 50,
   "metadata": {},
   "outputs": [
    {
     "data": {
      "text/plain": [
       "array([1])"
      ]
     },
     "execution_count": 50,
     "metadata": {},
     "output_type": "execute_result"
    }
   ],
   "source": [
    "ppt.fit(xx,yy)\n",
    "ppt.predict([[0,1]])"
   ]
  },
  {
   "cell_type": "code",
   "execution_count": null,
   "metadata": {},
   "outputs": [],
   "source": []
  }
 ],
 "metadata": {
  "kernelspec": {
   "display_name": "Python 3",
   "language": "python",
   "name": "python3"
  },
  "language_info": {
   "codemirror_mode": {
    "name": "ipython",
    "version": 3
   },
   "file_extension": ".py",
   "mimetype": "text/x-python",
   "name": "python",
   "nbconvert_exporter": "python",
   "pygments_lexer": "ipython3",
   "version": "3.6.2"
  }
 },
 "nbformat": 4,
 "nbformat_minor": 2
}
